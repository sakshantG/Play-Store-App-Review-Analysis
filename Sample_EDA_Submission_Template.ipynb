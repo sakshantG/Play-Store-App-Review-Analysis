{
  "nbformat": 4,
  "nbformat_minor": 0,
  "metadata": {
    "colab": {
      "private_outputs": true,
      "provenance": [],
      "collapsed_sections": [
        "vncDsAP0Gaoa",
        "FJNUwmbgGyua",
        "w6K7xa23Elo4",
        "mDgbUHAGgjLW",
        "GF8Ens_Soomf",
        "0wOQAZs5pc--",
        "K5QZ13OEpz2H",
        "lQ7QKXXCp7Bj",
        "448CDAPjqfQr",
        "KSlN3yHqYklG",
        "t6dVpIINYklI",
        "ijmpgYnKYklI",
        "-JiQyfWJYklI",
        "EM7whBJCYoAo",
        "fge-S5ZAYoAp",
        "85gYPyotYoAp",
        "RoGjAbkUYoAp",
        "4Of9eVA-YrdM",
        "iky9q4vBYrdO",
        "F6T5p64dYrdO",
        "y-Ehk30pYrdP",
        "bamQiAODYuh1",
        "QHF8YVU7Yuh3",
        "GwzvFGzlYuh3",
        "qYpmQ266Yuh3",
        "OH-pJp9IphqM",
        "bbFf2-_FphqN",
        "_ouA3fa0phqN",
        "Seke61FWphqN",
        "PIIx-8_IphqN",
        "t27r6nlMphqO",
        "r2jJGEOYphqO",
        "b0JNsNcRphqO",
        "BZR9WyysphqO",
        "jj7wYXLtphqO",
        "eZrbJ2SmphqO",
        "rFu4xreNphqO",
        "YJ55k-q6phqO",
        "gCFgpxoyphqP",
        "OVtJsKN_phqQ",
        "lssrdh5qphqQ",
        "U2RJ9gkRphqQ",
        "1M8mcRywphqQ",
        "tgIPom80phqQ",
        "JMzcOPDDphqR",
        "x-EpHcCOp1ci",
        "X_VqEhTip1ck",
        "8zGJKyg5p1ck",
        "PVzmfK_Ep1ck",
        "n3dbpmDWp1ck",
        "ylSl6qgtp1ck",
        "ZWILFDl5p1ck",
        "M7G43BXep1ck",
        "Ag9LCva-p1cl",
        "E6MkPsBcp1cl",
        "2cELzS2fp1cl",
        "3MPXvC8up1cl",
        "NC_X3p0fY2L0",
        "UV0SzAkaZNRQ",
        "YPEH6qLeZNRQ",
        "q29F0dvdveiT",
        "EXh0U9oCveiU",
        "22aHeOlLveiV",
        "JcMwzZxoAimU",
        "8G2x9gOozGDZ",
        "gCX9965dhzqZ",
        "gIfDvo9L0UH2"
      ],
      "include_colab_link": true
    },
    "kernelspec": {
      "name": "python3",
      "display_name": "Python 3"
    },
    "language_info": {
      "name": "python"
    }
  },
  "cells": [
    {
      "cell_type": "markdown",
      "metadata": {
        "id": "view-in-github",
        "colab_type": "text"
      },
      "source": [
        "<a href=\"https://colab.research.google.com/github/sakshantG/Play-Store-App-Review-Analysis/blob/main/Sample_EDA_Submission_Template.ipynb\" target=\"_parent\"><img src=\"https://colab.research.google.com/assets/colab-badge.svg\" alt=\"Open In Colab\"/></a>"
      ]
    },
    {
      "cell_type": "markdown",
      "source": [
        "# **Project Name**    - Play Store Analysis\n",
        "\n"
      ],
      "metadata": {
        "id": "vncDsAP0Gaoa"
      }
    },
    {
      "cell_type": "markdown",
      "source": [
        "##### **Project Type**    - Analysis of Play Store\n",
        "##### **Contribution**    - Team\n",
        "##### **Team Member 1 -** Sakshant Gongal\n",
        "##### **Team Member 2 -** Dhawal Khandait\n"
      ],
      "metadata": {
        "id": "beRrZCGUAJYm"
      }
    },
    {
      "cell_type": "markdown",
      "source": [
        "# **Project Summary -**"
      ],
      "metadata": {
        "id": "FJNUwmbgGyua"
      }
    },
    {
      "cell_type": "markdown",
      "source": [
        "Play Store, also branded as the Google Play Store and formerly Android Market, is a digital distribution service operated and developed by Google. Applications are available through Play Store either free of charge or at a cost. They can be downloaded directly on an Android device through the proprietary Play Store mobile app.\n",
        "\n",
        "We are provided with the two datasets one containing the information about apps and the other consist of the user reviews and their sentiments about the apps. Our goal is to analyze the dataset and visualize the trends and relations between app features. There are many questions an app developer could come across while developing an app and our study will help in answering those questions. Our analysis is divided into three phases; understanding data, data preparation and data visualization.\n",
        "\n",
        "This will involve various steps:\n",
        "\n",
        "*  **Loading the dataset as dataframe**\n",
        "*  **Cleaning and preparing the data**\n",
        "*  **Extracting essential data from the dataset**\n",
        "*  **Exploratory analysis and visualizations**\n",
        "*  **Conclusion** "
      ],
      "metadata": {
        "id": "F6v_1wHtG2nS"
      }
    },
    {
      "cell_type": "markdown",
      "source": [
        "# **GitHub Link -**"
      ],
      "metadata": {
        "id": "w6K7xa23Elo4"
      }
    },
    {
      "cell_type": "markdown",
      "source": [
        "Provide your GitHub Link here."
      ],
      "metadata": {
        "id": "h1o69JH3Eqqn"
      }
    },
    {
      "cell_type": "markdown",
      "source": [
        "# **Problem Statement**\n"
      ],
      "metadata": {
        "id": "yQaldy8SH6Dl"
      }
    },
    {
      "cell_type": "markdown",
      "source": [
        "###**The Play Store apps data has enormous potential to drive app-making businesses to success. Actionable insights can be drawn for developers to work on and capture the Android market.**\n",
        "###**Each app (row) has values for catergory, rating, size, and more. Another dataset contains customer reviews of the android apps.**\n",
        "###**Explore and analyze the data to discover key factors responsible for app engagement and success.**"
      ],
      "metadata": {
        "id": "DpeJGUA3kjGy"
      }
    },
    {
      "cell_type": "markdown",
      "source": [
        "#### **Define Your Business Objective?**"
      ],
      "metadata": {
        "id": "PH-0ReGfmX4f"
      }
    },
    {
      "cell_type": "markdown",
      "source": [
        "Answer Here."
      ],
      "metadata": {
        "id": "PhDvGCAqmjP1"
      }
    },
    {
      "cell_type": "markdown",
      "source": [
        "# **General Guidelines** : -  "
      ],
      "metadata": {
        "id": "mDgbUHAGgjLW"
      }
    },
    {
      "cell_type": "markdown",
      "source": [
        "1.   Well-structured, formatted, and commented code is required. \n",
        "2.   Exception Handling, Production Grade Code & Deployment Ready Code will be a plus. Those students will be awarded some additional credits. \n",
        "     \n",
        "     The additional credits will have advantages over other students during Star Student selection.\n",
        "       \n",
        "             [ Note: - Deployment Ready Code is defined as, the whole .ipynb notebook should be executable in one go\n",
        "                       without a single error logged. ]\n",
        "\n",
        "3.   Each and every logic should have proper comments.\n",
        "4. You may add as many number of charts you want. Make Sure for each and every chart the following format should be answered.\n",
        "        \n",
        "\n",
        "```\n",
        "# Chart visualization code\n",
        "```\n",
        "            \n",
        "\n",
        "*   Why did you pick the specific chart?\n",
        "*   What is/are the insight(s) found from the chart?\n",
        "* Will the gained insights help creating a positive business impact? \n",
        "Are there any insights that lead to negative growth? Justify with specific reason.\n",
        "\n",
        "5. You have to create at least 20 logical & meaningful charts having important insights.\n",
        "\n",
        "\n",
        "[ Hints : - Do the Vizualization in  a structured way while following \"UBM\" Rule. \n",
        "\n",
        "U - Univariate Analysis,\n",
        "\n",
        "B - Bivariate Analysis (Numerical - Categorical, Numerical - Numerical, Categorical - Categorical)\n",
        "\n",
        "M - Multivariate Analysis\n",
        " ]\n",
        "\n",
        "\n",
        "\n"
      ],
      "metadata": {
        "id": "ZrxVaUj-hHfC"
      }
    },
    {
      "cell_type": "markdown",
      "source": [
        "# ***Let's Begin !***"
      ],
      "metadata": {
        "id": "O_i_v8NEhb9l"
      }
    },
    {
      "cell_type": "markdown",
      "source": [
        "## ***1. Know Your Data***"
      ],
      "metadata": {
        "id": "HhfV-JJviCcP"
      }
    },
    {
      "cell_type": "markdown",
      "source": [
        "### Import Libraries"
      ],
      "metadata": {
        "id": "Y3lxredqlCYt"
      }
    },
    {
      "cell_type": "code",
      "source": [
        "# Import Libraries\n",
        "\n",
        "import numpy as np\n",
        "import pandas as pd\n",
        "import matplotlib.pyplot as plt\n",
        "import seaborn as sns\n",
        "from datetime import datetime\n",
        "\n",
        "import warnings\n",
        "warnings.filterwarnings('ignore')\n",
        "%matplotlib inline"
      ],
      "metadata": {
        "id": "M8Vqi-pPk-HR"
      },
      "execution_count": null,
      "outputs": []
    },
    {
      "cell_type": "markdown",
      "source": [
        "### Dataset Loading"
      ],
      "metadata": {
        "id": "3RnN4peoiCZX"
      }
    },
    {
      "cell_type": "code",
      "source": [
        "# Load Dataset"
      ],
      "metadata": {
        "id": "4CkvbW_SlZ_R"
      },
      "execution_count": null,
      "outputs": []
    },
    {
      "cell_type": "code",
      "source": [
        "from google.colab import drive\n",
        "drive.mount('/content/drive')"
      ],
      "metadata": {
        "id": "1J9ycthInQQd"
      },
      "execution_count": null,
      "outputs": []
    },
    {
      "cell_type": "code",
      "source": [
        "# loading the User Review dataset as pandas dataframe\n",
        "User_reviews_df = pd.read_csv(\"/content/drive/MyDrive/Play Store Analysis/User Reviews.csv\")"
      ],
      "metadata": {
        "id": "fmK8ZqC9nZLa"
      },
      "execution_count": null,
      "outputs": []
    },
    {
      "cell_type": "code",
      "source": [
        "# loading the Play Store app dataset as pandas dataframe\n",
        "Play_store_df = pd.read_csv(\"/content/drive/MyDrive/Play Store Analysis/Play Store Data.csv\")"
      ],
      "metadata": {
        "id": "-ouXCO8ypykG"
      },
      "execution_count": null,
      "outputs": []
    },
    {
      "cell_type": "markdown",
      "source": [
        "### Dataset First View"
      ],
      "metadata": {
        "id": "x71ZqKXriCWQ"
      }
    },
    {
      "cell_type": "code",
      "source": [
        "# Dataset First Look\n",
        "# Fetching the First 5 rows\n",
        "Play_store_df.head()"
      ],
      "metadata": {
        "id": "LWNFOSvLl09H"
      },
      "execution_count": null,
      "outputs": []
    },
    {
      "cell_type": "code",
      "source": [
        "# Fetching the last 5 rows\n",
        "Play_store_df.tail()"
      ],
      "metadata": {
        "id": "MkOa9fioqTVW"
      },
      "execution_count": null,
      "outputs": []
    },
    {
      "cell_type": "markdown",
      "source": [
        "### Dataset Rows & Columns count"
      ],
      "metadata": {
        "id": "7hBIi_osiCS2"
      }
    },
    {
      "cell_type": "code",
      "source": [
        "# Dataset Rows & Columns count\n",
        "Play_store_df.shape"
      ],
      "metadata": {
        "id": "Kllu7SJgmLij"
      },
      "execution_count": null,
      "outputs": []
    },
    {
      "cell_type": "markdown",
      "source": [
        "### Dataset Information"
      ],
      "metadata": {
        "id": "JlHwYmJAmNHm"
      }
    },
    {
      "cell_type": "code",
      "source": [
        "# Dataset Info\n",
        "Play_store_df.info()"
      ],
      "metadata": {
        "id": "e9hRXRi6meOf"
      },
      "execution_count": null,
      "outputs": []
    },
    {
      "cell_type": "markdown",
      "source": [
        "#### Duplicate Values"
      ],
      "metadata": {
        "id": "35m5QtbWiB9F"
      }
    },
    {
      "cell_type": "code",
      "source": [
        "# Dataset Duplicate Value Count\n",
        "Play_store_df[Play_store_df.duplicated()].count()"
      ],
      "metadata": {
        "id": "1sLdpKYkmox0"
      },
      "execution_count": null,
      "outputs": []
    },
    {
      "cell_type": "markdown",
      "source": [
        "## ***2. Understanding Your Variables***"
      ],
      "metadata": {
        "id": "PoPl-ycgm1ru"
      }
    },
    {
      "cell_type": "markdown",
      "source": [
        "### Variables Description "
      ],
      "metadata": {
        "id": "ewSOWAlCfG-j"
      }
    },
    {
      "cell_type": "markdown",
      "source": [
        "Dataset has 13 columns which are the parameters of the apps. Let's look at each column -\n",
        "\n",
        "* **App** - name of the app\n",
        "* **Category** - category of the app\n",
        "* **Rating** - app's rating by the   users out of 5\n",
        "* **Reviews** - number of the app's reviews\n",
        "* **Size** - size of the app\n",
        "* **Installs** - number of installs of the app\n",
        "* **Type** - whether the app is free or paid\n",
        "* **Price** - price of the app in \n",
        "* **Content Rating** - target audience of the app\n",
        "* **Genres** - genre of the app\n",
        "* **Last Updated** - date the app updated last time\n",
        "* **Current Ver** - current version of the app\n",
        "* **Android Ver** - android version required to run the app\n",
        "\n",
        "After getting familliar with the dataset we should prepare our data and look  for the missing and duplicate values. Detecting and treating/removing such values helps in efficient analysis, limits errors and inaccuracies."
      ],
      "metadata": {
        "id": "SZ3RcVZnx0XH"
      }
    },
    {
      "cell_type": "markdown",
      "source": [
        "## 3. ***Data Wrangling***\n",
        "\n",
        "Data wrangling is the process of cleaning and transforming raw data prior to processing and analysis. It is the most important step. Good data preparation allows for efficient analysis, limit errors and inaccuracies that can occur to data during processing."
      ],
      "metadata": {
        "id": "oAp47K4Dn6vg"
      }
    },
    {
      "cell_type": "markdown",
      "source": [
        "# **Handling Missing data**\n",
        "\n",
        "Cleaning up the data is traditionally the most time consuming part of the data preparation process, but it’s crucial for removing faulty data and filling in gaps. Missing values are caused by incomplete data. It is important to handle missing values effectively, as they can lead to inaccurate inferences and conclusions.\n",
        "\n",
        "Starting with checking for duplicates and missing values."
      ],
      "metadata": {
        "id": "oX5vnXQaoS3E"
      }
    },
    {
      "cell_type": "markdown",
      "source": [
        "### Data Wrangling Code"
      ],
      "metadata": {
        "id": "mvC3FljufmuN"
      }
    },
    {
      "cell_type": "markdown",
      "source": [
        "\n",
        "**Duplicate Values**"
      ],
      "metadata": {
        "id": "2jDUh0YioiMB"
      }
    },
    {
      "cell_type": "code",
      "source": [
        "# Write your code to make your dataset analysis ready.\n",
        "\n",
        "# checking for duplicates\n",
        "Play_store_df['App'].duplicated().any()"
      ],
      "metadata": {
        "id": "3q5wnI3om9sJ"
      },
      "execution_count": null,
      "outputs": []
    },
    {
      "cell_type": "code",
      "source": [
        "# droping the duplicates\n",
        "Play_store_df.drop_duplicates(\"App\", inplace =True)"
      ],
      "metadata": {
        "id": "lqBMCJ3ao6rd"
      },
      "execution_count": null,
      "outputs": []
    },
    {
      "cell_type": "code",
      "source": [
        "# Shape of dataset after droping duplicates\n",
        "Play_store_df.shape"
      ],
      "metadata": {
        "id": "Clny9rWzo6hu"
      },
      "execution_count": null,
      "outputs": []
    },
    {
      "cell_type": "code",
      "source": [
        "# Checking the columns which have missing values\n",
        "missing_value_of_each_column= Play_store_df.columns[Play_store_df.isna().any()]\n",
        "Play_store_df[missing_value_of_each_column].isnull().sum()"
      ],
      "metadata": {
        "id": "0z1L2QCfo6ZN"
      },
      "execution_count": null,
      "outputs": []
    },
    {
      "cell_type": "markdown",
      "source": [
        "### What did you know about your dataset?"
      ],
      "metadata": {
        "id": "H0kj-8xxnORC"
      }
    },
    {
      "cell_type": "markdown",
      "source": [
        "Looking at number of missing values above, we notice that the Rating column has a lot of missing values in it. The other columns do have missing values but they are less than 10.\n",
        "\n",
        "Let us analyze features one by one so we can figure out why the data is missing. This is the point at which we get into the part of data science. It can be a frustrating part of data science, especially if you're newer to the field and don't have a lot of experience. For dealing with missing values, we'll need to use our intution to figure out why the value is missing."
      ],
      "metadata": {
        "id": "gfoNAAC-nUe_"
      }
    },
    {
      "cell_type": "code",
      "source": [
        "# Dataset Columns\n",
        "Play_store_df.columns"
      ],
      "metadata": {
        "id": "j7xfkqrt5Ag5"
      },
      "execution_count": null,
      "outputs": []
    },
    {
      "cell_type": "code",
      "source": [
        "# Dataset Describe\n",
        "Play_store_df.describe()"
      ],
      "metadata": {
        "id": "DnOaZdaE5Q5t"
      },
      "execution_count": null,
      "outputs": []
    },
    {
      "cell_type": "markdown",
      "source": [
        "### Check Unique Values for each variable."
      ],
      "metadata": {
        "id": "u3PMJOP6ngxN"
      }
    },
    {
      "cell_type": "code",
      "source": [
        "# Check Unique Values for each variable.\n",
        "Play_store_df['App'].unique()"
      ],
      "metadata": {
        "id": "zms12Yq5n-jE"
      },
      "execution_count": null,
      "outputs": []
    },
    {
      "cell_type": "markdown",
      "source": [
        "#### Lets Start with **Type** column"
      ],
      "metadata": {
        "id": "vXvmK0FBy7Mh"
      }
    },
    {
      "cell_type": "code",
      "source": [
        "# looking at the missing Values for each variable. \n",
        "Play_store_df[Play_store_df['Type'].isna()]"
      ],
      "metadata": {
        "id": "L7NDsg6Byi7t"
      },
      "execution_count": null,
      "outputs": []
    },
    {
      "cell_type": "markdown",
      "source": [
        "There is only one missing value. These value is probably missing because it is not recorded, rather than because it doesn't exist. So, it would make sense for us to try and guess what it would be rather than just leaving it as NaN.\n",
        "\n",
        "After cross-checking in the dataset the app's price is 0 it means the missing value should be 'Free', so filling the missing value."
      ],
      "metadata": {
        "id": "8ioBbrsvzWvZ"
      }
    },
    {
      "cell_type": "code",
      "source": [
        "# filling the missing data in type column.\n",
        "Play_store_df['Type'].fillna('Free', inplace= True)"
      ],
      "metadata": {
        "id": "jHsYmFySyiv7"
      },
      "execution_count": null,
      "outputs": []
    },
    {
      "cell_type": "code",
      "source": [
        "# looking at missing value in column Content Rating\n",
        "Play_store_df[Play_store_df['Content Rating'].isna()]"
      ],
      "metadata": {
        "id": "3co9B-CPykO4"
      },
      "execution_count": null,
      "outputs": []
    },
    {
      "cell_type": "markdown",
      "source": [
        "Looking at missing value we cannot conclude why this data is missing. It seems that values in the row are recorded in wrong column i.e starting from Category column the value of next column is recorded in previous column.It means value in Category column is missing and we can not figure out it's value so better idea will be to drop the row."
      ],
      "metadata": {
        "id": "yFXh2TeG0lQQ"
      }
    },
    {
      "cell_type": "code",
      "source": [
        "# droping the missing value row\n",
        "Play_store_df.dropna(subset= ['Content Rating'], inplace= True)"
      ],
      "metadata": {
        "id": "z6IR2dwIykDF"
      },
      "execution_count": null,
      "outputs": []
    },
    {
      "cell_type": "markdown",
      "source": [
        "Sometimes there would be many columns that we never use in such cases dropping is the only solution. In this case, the columns **Android Ver** and **Current Ver** doesn't make any sense to us so we just dropped for this instance."
      ],
      "metadata": {
        "id": "HyZuPTYT1ODo"
      }
    },
    {
      "cell_type": "code",
      "source": [
        "# droping unnecessary columns\n",
        "Play_store_df.drop(['Android Ver', 'Current Ver'], axis = 1, inplace = True)"
      ],
      "metadata": {
        "id": "0ulaMMjF1U_9"
      },
      "execution_count": null,
      "outputs": []
    },
    {
      "cell_type": "markdown",
      "source": [
        "Now looking at the missing values of Rating column. There are 1463 values which are missing. This ratings are given by the users, so we cannot predict anything to fill.\n",
        "\n",
        "Let's see the distribution of the ratings."
      ],
      "metadata": {
        "id": "kUiglaov1ok4"
      }
    },
    {
      "cell_type": "code",
      "source": [
        "# plot distribution of rating \n",
        "sns.distplot(Play_store_df['Rating'])"
      ],
      "metadata": {
        "id": "z0dqi-lN1Uyz"
      },
      "execution_count": null,
      "outputs": []
    },
    {
      "cell_type": "markdown",
      "source": [
        "The distribution of the rating interprets negatively skewed distribution as more values are concentrated towards the right side of the plot. In skewed distributions, the median is the best measure because it is unaffected by extreme outliers or non-symmetric distributions of scores.\n",
        "\n",
        "We can replace the missing values with the median value of the column."
      ],
      "metadata": {
        "id": "CR4bcwKJQJYh"
      }
    },
    {
      "cell_type": "code",
      "source": [
        "# calculating median value.\n",
        "median_value = Play_store_df['Rating'].median()"
      ],
      "metadata": {
        "id": "yg5vdSiNQOxg"
      },
      "execution_count": null,
      "outputs": []
    },
    {
      "cell_type": "code",
      "source": [
        "# replacing the missing value with the median value.\n",
        "Play_store_df['Rating'].fillna(median_value, inplace= True)"
      ],
      "metadata": {
        "id": "excrMfPoQOl-"
      },
      "execution_count": null,
      "outputs": []
    },
    {
      "cell_type": "code",
      "source": [
        "# checking the count of missing values\n",
        "Play_store_df.isna().sum()"
      ],
      "metadata": {
        "id": "vgyZIFvMQOeT"
      },
      "execution_count": null,
      "outputs": []
    },
    {
      "cell_type": "markdown",
      "source": [
        "All the columns have null count zero it means the dataset doesn't contain any missing values.\n",
        "\n",
        "Now our dataset is cleaned and we can start preparing our dataset."
      ],
      "metadata": {
        "id": "Au97-QdlRFDK"
      }
    },
    {
      "cell_type": "markdown",
      "source": [
        "### **Transforming Data**\n",
        "\n",
        "Transforming data is the process of updating the format or value entries in order to reach a well-defined outcome, or to make the data more easily understood."
      ],
      "metadata": {
        "id": "2QAr7g3wRKDu"
      }
    },
    {
      "cell_type": "code",
      "source": [
        "# checking the datatype\n",
        "Play_store_df.dtypes"
      ],
      "metadata": {
        "id": "tGOS2hNRRBL0"
      },
      "execution_count": null,
      "outputs": []
    },
    {
      "cell_type": "markdown",
      "source": [
        "Columns like Reviews, Size, Installs, Price are of object type so we can change their data type to integer/float.\n",
        "\n",
        "Let's start with changing **Reviews** column from object to integer."
      ],
      "metadata": {
        "id": "iwlsIGM2RjtC"
      }
    },
    {
      "cell_type": "code",
      "source": [
        "# changing the datatype of column Reviews\n",
        "Play_store_df['Reviews'] = Play_store_df.Reviews.astype(int)"
      ],
      "metadata": {
        "id": "uNpbQF_kRBCR"
      },
      "execution_count": null,
      "outputs": []
    },
    {
      "cell_type": "code",
      "source": [
        "# checking the uique calues in size column\n",
        "Play_store_df['Size'].unique()"
      ],
      "metadata": {
        "id": "TvTZTNJ0RAu9"
      },
      "execution_count": null,
      "outputs": []
    },
    {
      "cell_type": "markdown",
      "source": [
        "**Size** column contain characters M and K which denotes MB and kB so we will remove M and convert kB to MB by replacing K with ''.\n",
        "\n",
        "There are some apps whose size varies with device in which they are installed so we cannot predict there size or replace them with mean or median as some have small and some very large size. It will be better to drop that rows with varies with devices in **Size** column."
      ],
      "metadata": {
        "id": "e-KjV8uGSbrj"
      }
    },
    {
      "cell_type": "code",
      "source": [
        "Play_store_df['Size'] = Play_store_df['Size'].apply(lambda x: x.replace('M', ''))\n",
        "Play_store_df['Size'] = Play_store_df['Size'].apply(lambda x: x.replace('k', 'e-3'))\n",
        "Play_store_df = Play_store_df[Play_store_df['Size'] != 'Varies with device']\n",
        "\n",
        "# changing the type of Size column\n",
        "Play_store_df['Size'] = Play_store_df['Size'].astype(float)"
      ],
      "metadata": {
        "id": "V3yA8Jj-SO-N"
      },
      "execution_count": null,
      "outputs": []
    },
    {
      "cell_type": "markdown",
      "source": [
        "To change the type of **Installs** column first we have to remove the special character '+' and ',' from the values."
      ],
      "metadata": {
        "id": "d6pRHXNtYUqp"
      }
    },
    {
      "cell_type": "code",
      "source": [
        "# removing special Character\n",
        "Play_store_df['Installs'] = Play_store_df['Installs'].apply(lambda x : x.replace('+', ''))\n",
        "Play_store_df['Installs'] = Play_store_df['Installs'].apply(lambda x : x.replace(',', ''))\n",
        "\n",
        "# changing the datatype of Size column\n",
        "Play_store_df['Installs'] = Play_store_df.Installs.astype(int)\n"
      ],
      "metadata": {
        "id": "aKHm0fhSaDMK"
      },
      "execution_count": null,
      "outputs": []
    },
    {
      "cell_type": "markdown",
      "source": [
        "Now changing the type of **Price** column to float. First, we have remove the special character '$'."
      ],
      "metadata": {
        "id": "z8IjT9DjaLb9"
      }
    },
    {
      "cell_type": "code",
      "source": [
        "# removing special Character\n",
        "Play_store_df['Price'] = Play_store_df['Price'].apply(lambda x : x.replace('$', ''))\n",
        "\n",
        "Play_store_df['Price'] = Play_store_df['Price'].astype(float)"
      ],
      "metadata": {
        "id": "w73O_EioSOro"
      },
      "execution_count": null,
      "outputs": []
    },
    {
      "cell_type": "markdown",
      "source": [
        "Now looking at the **last updated** column it contains the date on which the app is updated/launched last time. It is of object type so we have to convert date in the date-time format."
      ],
      "metadata": {
        "id": "ydImkZ2lb9LS"
      }
    },
    {
      "cell_type": "code",
      "source": [
        "# coverting 'date' datatype from object to datetime\n",
        "\n",
        "Play_store_df[\"Last Updated\"] = pd.to_datetime(Play_store_df[\"Last Updated\"],dayfirst=True )"
      ],
      "metadata": {
        "id": "6xR2neF7b81W"
      },
      "execution_count": null,
      "outputs": []
    },
    {
      "cell_type": "markdown",
      "source": [
        "### **Final Look at the dataset**"
      ],
      "metadata": {
        "id": "VdskB8Jqgawm"
      }
    },
    {
      "cell_type": "code",
      "source": [
        "# reseting the index\n",
        "Play_store_df.reset_index(drop= True, inplace= True)"
      ],
      "metadata": {
        "id": "PCgJJTDrgXDw"
      },
      "execution_count": null,
      "outputs": []
    },
    {
      "cell_type": "code",
      "source": [
        "# top 5 rows\n",
        "Play_store_df.head()"
      ],
      "metadata": {
        "id": "q4PQsLwRgYTG"
      },
      "execution_count": null,
      "outputs": []
    },
    {
      "cell_type": "code",
      "source": [
        "# last 5 rows\n",
        "Play_store_df.tail()"
      ],
      "metadata": {
        "id": "vEMKF2lgg-oL"
      },
      "execution_count": null,
      "outputs": []
    },
    {
      "cell_type": "code",
      "source": [
        "# basic info\n",
        "Play_store_df.info()"
      ],
      "metadata": {
        "id": "exK1XbkTg-f1"
      },
      "execution_count": null,
      "outputs": []
    },
    {
      "cell_type": "code",
      "source": [
        "# descriptive statistics\n",
        "Play_store_df.describe()"
      ],
      "metadata": {
        "id": "xIzR60j-hLhR"
      },
      "execution_count": null,
      "outputs": []
    },
    {
      "cell_type": "markdown",
      "source": [
        "### What all manipulations have you done and insights you found?"
      ],
      "metadata": {
        "id": "MSa1f5Uengrz"
      }
    },
    {
      "cell_type": "markdown",
      "source": [
        "###**Observation:**\n",
        "\n",
        "* After cleaning we have dataset of shape **8432 apps** and **11 columns**.\n",
        "* There are no missing values now and columns have their respective data types.\n",
        "* Rating for apps given by users is out of 5 having **average rating of 4.18**.\n",
        "* Max size of app is 100 MB. There were apps with size varying with device     which would have size more than 100 MB but we could not predict their size thats why we had to drop them.\n",
        "* There are apps which are installed more than 1 billion times and some apps  are not intalled single time also. The **average installs is 3.72e6 times**.\n",
        "* There are less paid apps as compare to free apps and maximum price paid app have is $400.\n",
        "\n",
        "**We can now explore the dataset and perform analysis.**"
      ],
      "metadata": {
        "id": "LbyXE7I1olp8"
      }
    },
    {
      "cell_type": "markdown",
      "source": [
        "## ***4. Data Vizualization, Storytelling & Experimenting with charts : Understand the relationships between variables***"
      ],
      "metadata": {
        "id": "GF8Ens_Soomf"
      }
    },
    {
      "cell_type": "markdown",
      "source": [
        "## **Data Insight**\n",
        "\n",
        "Now it is time to unveil the real strength of data analysis, i.e., to get an insight, and learn the trend, pattern and get answers to some of the questions related to the dataset."
      ],
      "metadata": {
        "id": "4260Eu6YqptF"
      }
    },
    {
      "cell_type": "markdown",
      "source": [
        "### **How is the app rating distributed?**"
      ],
      "metadata": {
        "id": "0wOQAZs5pc--"
      }
    },
    {
      "cell_type": "code",
      "source": [
        "# Chart - 1 visualization code\n",
        "plt.figure(figsize=(10,8))\n",
        "sns.set_style('whitegrid')\n",
        "\n",
        "#distribution plot\n",
        "sns.kdeplot(Play_store_df.Rating, color=\"b\", shade=True, Label= 'App_Ratings')\n",
        "\n",
        "#setting the X and Y Label\n",
        "plt.title('Distribution of Rating')\n",
        "plt.ylabel('Density')\n",
        "plt.xlabel('Rating')\n",
        "plt.show()\n"
      ],
      "metadata": {
        "id": "7v_ESjsspbW7"
      },
      "execution_count": null,
      "outputs": []
    },
    {
      "cell_type": "code",
      "source": [
        "# average rating\n",
        "avg_rating = Play_store_df['Rating'].mean()\n",
        "print(f\"Average Rating of apps is : {round(avg_rating,2)}\")"
      ],
      "metadata": {
        "id": "ehmfj_fBu1_D"
      },
      "execution_count": null,
      "outputs": []
    },
    {
      "cell_type": "markdown",
      "source": [
        "##### 1. Why did you pick the specific chart?"
      ],
      "metadata": {
        "id": "K5QZ13OEpz2H"
      }
    },
    {
      "cell_type": "markdown",
      "source": [
        "here we used kdeplot() because it is used to plot the data against a **Rating**(**single/Univariate variable**) "
      ],
      "metadata": {
        "id": "XESiWehPqBRc"
      }
    },
    {
      "cell_type": "markdown",
      "source": [
        "##### 2. What is/are the insight(s) found from the chart?"
      ],
      "metadata": {
        "id": "lQ7QKXXCp7Bj"
      }
    },
    {
      "cell_type": "markdown",
      "source": [
        "* Average rating of applications in play store is around 4.18, which is quite  high.\n",
        "\n",
        "* Most of the ratings are above 3.5 which means most of the apps are being liked by the users.\n"
      ],
      "metadata": {
        "id": "C_j1G7yiqdRP"
      }
    },
    {
      "cell_type": "markdown",
      "source": [
        "##### 3. Will the gained insights help creating a positive business impact? \n",
        "Are there any insights that lead to negative growth? Justify with specific reason."
      ],
      "metadata": {
        "id": "448CDAPjqfQr"
      }
    },
    {
      "cell_type": "markdown",
      "source": [
        "* Yes it will definitely help creating a positive impact because customer generally prefer the apps whose rating in between 3.5-5. That satisfy the customers comfort\n",
        "* **We can say that rating can be a variable to identify app success.**"
      ],
      "metadata": {
        "id": "3cspy4FjqxJW"
      }
    },
    {
      "cell_type": "markdown",
      "source": [
        "## **How many apps are there in each category?**"
      ],
      "metadata": {
        "id": "KSlN3yHqYklG"
      }
    },
    {
      "cell_type": "code",
      "source": [
        "# prepare the data and sort\n",
        "preferred_category = Play_store_df['Category'].value_counts().reset_index().rename(\n",
        "                     columns={'index':'Category','Category':'Total_apps'})\n",
        "\n",
        "sorted_category = preferred_category.sort_values(by=['Total_apps'], ascending= True)"
      ],
      "metadata": {
        "id": "R4YgtaqtYklH"
      },
      "execution_count": null,
      "outputs": []
    },
    {
      "cell_type": "code",
      "source": [
        "# checking the count of categories\n",
        "print ('In total there are '+(str(len(Play_store_df.App.unique())))+ ' apps in '+\n",
        "      (str(len(Play_store_df.Category.unique())))+ ' different categories')"
      ],
      "metadata": {
        "id": "Zmi-ibzhyB3Q"
      },
      "execution_count": null,
      "outputs": []
    },
    {
      "cell_type": "code",
      "source": [
        "# setting the plot size and background\n",
        "plt.figure(figsize=(10,8))\n",
        "sns.set_style('ticks')\n",
        "\n",
        "# plotting bar chart\n",
        "plt.hlines(y= sorted_category['Category'], xmin=0, \n",
        "           xmax= sorted_category['Total_apps'] ,color='green')\n",
        "plt.plot(sorted_category['Total_apps'], sorted_category['Category'],\"o\")\n",
        "\n",
        "# setting title and labels\n",
        "plt.title(\"Count of apps for each Category\")\n",
        "plt.ylabel(\"Total apps\")\n",
        "plt.xlabel(\"Category\")\n",
        "plt.show()"
      ],
      "metadata": {
        "id": "KmIs-xvPyBsp"
      },
      "execution_count": null,
      "outputs": []
    },
    {
      "cell_type": "markdown",
      "source": [
        "##### 1. Why did you pick the specific chart?"
      ],
      "metadata": {
        "id": "t6dVpIINYklI"
      }
    },
    {
      "cell_type": "markdown",
      "source": [
        "Answer Here."
      ],
      "metadata": {
        "id": "5aaW0BYyYklI"
      }
    },
    {
      "cell_type": "markdown",
      "source": [
        "##### 2. What is/are the insight(s) found from the chart?"
      ],
      "metadata": {
        "id": "ijmpgYnKYklI"
      }
    },
    {
      "cell_type": "markdown",
      "source": [
        "### **Observation:**\n",
        "* There are 33 categories present in play store.\n",
        "\n",
        "* Family category is at the top having highest number of apps nearing 1750 apps.\n",
        "\n",
        "* Game and Tools categories are behind Family category having more than 750 apps.\n",
        "* We can say that apps in Family and Game category are common and have high chances of being successful."
      ],
      "metadata": {
        "id": "PSx9atu2YklI"
      }
    },
    {
      "cell_type": "markdown",
      "source": [
        "##### 3. Will the gained insights help creating a positive business impact? \n",
        "Are there any insights that lead to negative growth? Justify with specific reason."
      ],
      "metadata": {
        "id": "-JiQyfWJYklI"
      }
    },
    {
      "cell_type": "markdown",
      "source": [
        "Answer Here"
      ],
      "metadata": {
        "id": "BcBbebzrYklV"
      }
    },
    {
      "cell_type": "markdown",
      "source": [
        "## **Which category apps are installed most?**"
      ],
      "metadata": {
        "id": "EM7whBJCYoAo"
      }
    },
    {
      "cell_type": "code",
      "source": [
        "# Chart - 3 visualization code\n",
        "#prepare data and sort \n",
        "most_installs = Play_store_df.groupby('Category')['Installs'].sum().sort_values(ascending= False).reset_index()\n",
        "most_installs.head()\n"
      ],
      "metadata": {
        "id": "t6GMdE67YoAp"
      },
      "execution_count": null,
      "outputs": []
    },
    {
      "cell_type": "code",
      "source": [
        "# setting plot size and background\n",
        "plt.figure(figsize=(12,10))\n",
        "sns.set_style(\"whitegrid\")\n",
        "\n",
        "#Bar plot\n",
        "sns.barplot(data=most_installs, x='Category', y='Installs')\n",
        "plt.title('Most Favourable Apps')\n",
        "plt.xticks(rotation=90)\n",
        "plt.show()"
      ],
      "metadata": {
        "id": "DvE-m4qP4lun"
      },
      "execution_count": null,
      "outputs": []
    },
    {
      "cell_type": "markdown",
      "source": [
        "##### 1. Why did you pick the specific chart?"
      ],
      "metadata": {
        "id": "fge-S5ZAYoAp"
      }
    },
    {
      "cell_type": "markdown",
      "source": [
        "* Above we have to show the apps which installs the most based on categories\n",
        "* Bar graph is best suit for showing the comparison of Category wise apps with the installs"
      ],
      "metadata": {
        "id": "5dBItgRVYoAp"
      }
    },
    {
      "cell_type": "markdown",
      "source": [
        "##### 2. What is/are the insight(s) found from the chart?"
      ],
      "metadata": {
        "id": "85gYPyotYoAp"
      }
    },
    {
      "cell_type": "markdown",
      "source": [
        "### **Observation:**\n",
        "\n",
        "* We saw that Family category has high number of apps but when it comes to installs Game is the most popular category.\n",
        "\n",
        "* Entertainment, Communication, Video players, Photography categories are also popular among smartphone users.\n",
        "\n",
        "* Medical category has least number of installs and it's interesting that it has more number of apps than many other categories which has more installs."
      ],
      "metadata": {
        "id": "4jstXR6OYoAp"
      }
    },
    {
      "cell_type": "markdown",
      "source": [
        "##### 3. Will the gained insights help creating a positive business impact? \n",
        "Are there any insights that lead to negative growth? Justify with specific reason."
      ],
      "metadata": {
        "id": "RoGjAbkUYoAp"
      }
    },
    {
      "cell_type": "markdown",
      "source": [
        "Answer Here"
      ],
      "metadata": {
        "id": "zfJ8IqMcYoAp"
      }
    },
    {
      "cell_type": "markdown",
      "source": [
        "##**Top 5 Categories in Playstore**"
      ],
      "metadata": {
        "id": "8_r3l7K1X7_8"
      }
    },
    {
      "cell_type": "code",
      "source": [
        "# plotting the graph\n",
        "top_cat = Play_store_df[['Category', 'App']].groupby(['Category']).\\\n",
        "                          count().sort_values('App', ascending=False).head(5).reset_index()\n",
        "\n",
        "plt.figure(figsize=(8,6))\n",
        "sns.set_style(\"white\")\n",
        "ax=sns.barplot(x=top_cat.Category, \n",
        "               y=top_cat.App,\n",
        "               data=top_cat, \n",
        "               palette='autumn')\n",
        "\n",
        "ax.set_title(\"Top 5 Categories\")\n",
        "ax.set_xlabel('Categories',fontsize=16, fontweight='bold')\n",
        "ax.set_ylabel('Number of Apps', fontsize=16, fontweight='bold')\n",
        "plt.show()"
      ],
      "metadata": {
        "id": "xugASdmfX5o7"
      },
      "execution_count": null,
      "outputs": []
    },
    {
      "cell_type": "markdown",
      "source": [
        "## **Observation:**\n",
        "* Above we have calculated the **Top 5 Categories in playstore**  \n",
        "* we can say that most of the users are interested in **Family** category\n",
        "* Family followed by Game,Tools, Business and Medical"
      ],
      "metadata": {
        "id": "FKhBXwNsZQza"
      }
    },
    {
      "cell_type": "markdown",
      "source": [
        "## **Which age groups do different categories target?**"
      ],
      "metadata": {
        "id": "4Of9eVA-YrdM"
      }
    },
    {
      "cell_type": "code",
      "source": [
        "# Chart - 4 visualization code\n",
        "# To get count of apps per category and content rating \n",
        "\n",
        "age_grp = Play_store_df.groupby(['Category','Content Rating']).count().reset_index()\n",
        "age_grp = age_grp[['Category','Content Rating','App']]\n",
        "age_favourable_category = age_grp.pivot(columns='Content Rating', index='Category', values='App')"
      ],
      "metadata": {
        "id": "irlUoxc8YrdO"
      },
      "execution_count": null,
      "outputs": []
    },
    {
      "cell_type": "code",
      "source": [
        "# Plotting the graph\n",
        "sns.set_style('white')\n",
        "\n",
        "# plotting bar chart\n",
        "color_list = ['purple','green','black','deeppink','gold','dodgerblue']\n",
        "age_favourable_category.plot(kind='bar',stacked=True,color=color_list,figsize=(12,6))\n",
        "\n",
        "# setting label and title\n",
        "plt.ylabel('App Count')\n",
        "plt.xlabel('Category')\n",
        "plt.title('Age groups with favourable Categories')\n",
        "plt.show()"
      ],
      "metadata": {
        "id": "H3oWk60361v6"
      },
      "execution_count": null,
      "outputs": []
    },
    {
      "cell_type": "markdown",
      "source": [
        "##### 1. Why did you pick the specific chart?"
      ],
      "metadata": {
        "id": "iky9q4vBYrdO"
      }
    },
    {
      "cell_type": "markdown",
      "source": [
        "Answer Here."
      ],
      "metadata": {
        "id": "aJRCwT6DYrdO"
      }
    },
    {
      "cell_type": "markdown",
      "source": [
        "##### 2. What is/are the insight(s) found from the chart?"
      ],
      "metadata": {
        "id": "F6T5p64dYrdO"
      }
    },
    {
      "cell_type": "markdown",
      "source": [
        "### **Observation:**\n",
        "\n",
        "*   Every Category targets almost all age group audiences.\n",
        "\n",
        "*   Dating Category has over 90% of apps mostly for Mature audience.\n",
        "\n",
        "*   Family and Game categories have high number of apps so they contain more apps which are rated for teen and mature audiences.\n",
        "\n",
        "* Categories such as Tools, Finance, Books and Reference, Education, Weather mostly targets everyone.\n",
        "\n",
        "\n",
        "\n",
        "\n"
      ],
      "metadata": {
        "id": "Xx8WAJvtYrdO"
      }
    },
    {
      "cell_type": "markdown",
      "source": [
        "##### 3. Will the gained insights help creating a positive business impact? \n",
        "Are there any insights that lead to negative growth? Justify with specific reason."
      ],
      "metadata": {
        "id": "y-Ehk30pYrdP"
      }
    },
    {
      "cell_type": "markdown",
      "source": [
        "Answer Here"
      ],
      "metadata": {
        "id": "jLNxxz7MYrdP"
      }
    },
    {
      "cell_type": "markdown",
      "source": [
        "## **What percentage of apps are paid?**"
      ],
      "metadata": {
        "id": "bamQiAODYuh1"
      }
    },
    {
      "cell_type": "code",
      "source": [
        "# Chart - 5 \n",
        "#data to plot\n",
        "data = Play_store_df['Type'].value_counts()\n",
        "\n",
        "# displaying free and paid apps\n",
        "print(f\"Number of free apps:{data['Free']}\")\n",
        "print(f\"Number of paid apps:{data['Paid']}\")"
      ],
      "metadata": {
        "id": "TIJwrbroYuh3"
      },
      "execution_count": null,
      "outputs": []
    },
    {
      "cell_type": "code",
      "source": [
        "# Pie Chart\n",
        "plt.figure(figsize=[10,6])\n",
        "\n",
        "labels = data.keys()\n",
        "plt.pie(x=data, labels=labels, autopct=\"%.1f%%\", explode=[0.05]*2)\n",
        "plt.title(\"Percentage of paid and free apps\");"
      ],
      "metadata": {
        "id": "z0ikS91V_JbA"
      },
      "execution_count": null,
      "outputs": []
    },
    {
      "cell_type": "markdown",
      "source": [
        "##### 1. Why did you pick the specific chart?"
      ],
      "metadata": {
        "id": "QHF8YVU7Yuh3"
      }
    },
    {
      "cell_type": "markdown",
      "source": [
        "* Pie chart is use to show the percentage.\n",
        "* In above we have to show the percenatge of paid apps, So we used Pie Chart to obtain the desired result."
      ],
      "metadata": {
        "id": "dcxuIMRPYuh3"
      }
    },
    {
      "cell_type": "markdown",
      "source": [
        "##### 2. What is/are the insight(s) found from the chart?"
      ],
      "metadata": {
        "id": "GwzvFGzlYuh3"
      }
    },
    {
      "cell_type": "markdown",
      "source": [
        "### **Observation:**\n",
        "* From the above chart, we can see that 91.9% of apps in the play store dataset are free apps and 8.1% apps are paid.\n",
        "\n",
        "* There are very less paid apps as compare to free apps.\n"
      ],
      "metadata": {
        "id": "uyqkiB8YYuh3"
      }
    },
    {
      "cell_type": "markdown",
      "source": [
        "##### 3. Will the gained insights help creating a positive business impact? \n",
        "Are there any insights that lead to negative growth? Justify with specific reason."
      ],
      "metadata": {
        "id": "qYpmQ266Yuh3"
      }
    },
    {
      "cell_type": "markdown",
      "source": [
        "Yes, the above chart is helpfull for creating business impact.\n"
      ],
      "metadata": {
        "id": "_WtzZ_hCYuh4"
      }
    },
    {
      "cell_type": "markdown",
      "source": [
        "## **Which type of apps are users willing to pay for?**"
      ],
      "metadata": {
        "id": "OH-pJp9IphqM"
      }
    },
    {
      "cell_type": "code",
      "source": [
        "# Chart - 6 \n",
        "paid = Play_store_df[Play_store_df['Type']== 'Paid']\n",
        "paid_apps =paid.groupby('Category')['Type'].value_counts().unstack().reset_index()\n",
        "paid_apps"
      ],
      "metadata": {
        "id": "kuRf4wtuphqN"
      },
      "execution_count": null,
      "outputs": []
    },
    {
      "cell_type": "code",
      "source": [
        "# merging dataframes\n",
        "preferred_category.sort_values(by='Category', inplace=True)\n",
        "preferred_category = preferred_category.merge(paid_apps, on='Category', how='outer')\n",
        "preferred_category.fillna(value=0, inplace =True)"
      ],
      "metadata": {
        "id": "6QhJPCX6AVXg"
      },
      "execution_count": null,
      "outputs": []
    },
    {
      "cell_type": "code",
      "source": [
        "# percentage of paid apps by category\n",
        "preferred_category['pct_of_paid_apps']= preferred_category.apply(lambda x : round(100*x['Paid']/x['Total_apps'],2),axis=1) \n"
      ],
      "metadata": {
        "id": "wBp9LuASAmC1"
      },
      "execution_count": null,
      "outputs": []
    },
    {
      "cell_type": "code",
      "source": [
        "preferred_category.head()"
      ],
      "metadata": {
        "id": "pOCK_TPvAlZj"
      },
      "execution_count": null,
      "outputs": []
    },
    {
      "cell_type": "code",
      "source": [
        "# potting graph\n",
        "plt.figure(figsize=(10,8))\n",
        "sns.set_style('white')\n",
        "\n",
        "# barplot\n",
        "\n",
        "plt.bar(preferred_category['Category'], preferred_category['pct_of_paid_apps'], width=.5)\n",
        "\n",
        "for i, val in enumerate(preferred_category['pct_of_paid_apps'].values):\n",
        "    plt.text(i, val, float(val), horizontalalignment='center',\n",
        "             verticalalignment='bottom', fontdict={'fontweight':500, 'size':10})\n",
        "\n",
        "plt.title('Category wise Percent of paid apps')\n",
        "plt.xlabel('Category')\n",
        "plt.ylabel('paid apps percentage')\n",
        "plt.xticks(rotation=90)\n",
        "plt.show()"
      ],
      "metadata": {
        "id": "TIrtmC3sA1Nz"
      },
      "execution_count": null,
      "outputs": []
    },
    {
      "cell_type": "markdown",
      "source": [
        "##### 1. Why did you pick the specific chart?"
      ],
      "metadata": {
        "id": "bbFf2-_FphqN"
      }
    },
    {
      "cell_type": "markdown",
      "source": [
        "Answer Here."
      ],
      "metadata": {
        "id": "loh7H2nzphqN"
      }
    },
    {
      "cell_type": "markdown",
      "source": [
        "##### 2. What is/are the insight(s) found from the chart?"
      ],
      "metadata": {
        "id": "_ouA3fa0phqN"
      }
    },
    {
      "cell_type": "markdown",
      "source": [
        "### **Observation:**\n",
        "*   Personalization and Medical category have high rate of paid apps as compared to other categories having approximately 22% and 20% of their total apps are paid. Books and Reference category is behind them.\n",
        "\n",
        "*    We can say that this type of apps generally do well as paid apps, since value is in the apps functionality.\n",
        "\n",
        "*   Beauty, Comics and House and home categories do not have any paid app."
      ],
      "metadata": {
        "id": "VECbqPI7phqN"
      }
    },
    {
      "cell_type": "markdown",
      "source": [
        "##### 3. Will the gained insights help creating a positive business impact? \n",
        "Are there any insights that lead to negative growth? Justify with specific reason."
      ],
      "metadata": {
        "id": "Seke61FWphqN"
      }
    },
    {
      "cell_type": "markdown",
      "source": [
        "Answer Here"
      ],
      "metadata": {
        "id": "DW4_bGpfphqN"
      }
    },
    {
      "cell_type": "markdown",
      "source": [
        "## **Which Type(Free/Paid) of app shows better rating ?**"
      ],
      "metadata": {
        "id": "PIIx-8_IphqN"
      }
    },
    {
      "cell_type": "code",
      "source": [
        "# Chart - 7 \n",
        "# getting the data to plot\n",
        "free_apps_rating = Play_store_df[Play_store_df['Type']== 'Free']['Rating']\n",
        "paid_apps_rating = Play_store_df[Play_store_df['Type']== 'Paid']['Rating']\n"
      ],
      "metadata": {
        "id": "lqAIGUfyphqO"
      },
      "execution_count": null,
      "outputs": []
    },
    {
      "cell_type": "code",
      "source": [
        "# setting plot size and background\n",
        "sns.set_style('white')\n",
        "fig, ax = plt.subplots(figsize=(10,6))\n",
        "\n",
        "# average rating\n",
        "free_mean = free_apps_rating.mean()\n",
        "paid_mean = paid_apps_rating.mean()\n",
        "\n",
        "# distribution plot\n",
        "ax = sns.kdeplot(free_apps_rating, shade= True, color='green',fill= True)\n",
        "ax = sns.kdeplot(paid_apps_rating, shade= True, color='red', fill= True )\n",
        "\n",
        "# plotting average lines\n",
        "plt.axvline(x=free_mean, color= 'green', label='free apps')\n",
        "plt.axvline(x=paid_mean, color='red', label='paid apps')\n",
        "\n",
        "# set title and legend\n",
        "plt.title(\"Rating Comaprison of Free and Paid apps\")\n",
        "plt.legend(loc= 'Upper left')\n",
        "plt.show()"
      ],
      "metadata": {
        "id": "rmPjEa_eDvo9"
      },
      "execution_count": null,
      "outputs": []
    },
    {
      "cell_type": "code",
      "source": [
        "# Average ratig for Free and Paid Apps\n",
        "print(f\"The average rating of free apps is: {round(free_mean,2)}\")\n",
        "print(f\"The average rating of paid apps is: {round(paid_mean,2)}\")"
      ],
      "metadata": {
        "id": "9n8gZ9aaKt6h"
      },
      "execution_count": null,
      "outputs": []
    },
    {
      "cell_type": "markdown",
      "source": [
        "##### 1. Why did you pick the specific chart?"
      ],
      "metadata": {
        "id": "t27r6nlMphqO"
      }
    },
    {
      "cell_type": "markdown",
      "source": [
        "* use kdeplot() to get the distribution of free and paid apps on Ratings\n",
        "* draw average line to get the **average rating** of the Free and Paid apps "
      ],
      "metadata": {
        "id": "iv6ro40sphqO"
      }
    },
    {
      "cell_type": "markdown",
      "source": [
        "##### 2. What is/are the insight(s) found from the chart?"
      ],
      "metadata": {
        "id": "r2jJGEOYphqO"
      }
    },
    {
      "cell_type": "markdown",
      "source": [
        "### **Observation:**\n",
        "\n",
        "*   The average rating paid apps get is **4.26** as compare to **4.18** for free apps.\n",
        "\n",
        "*   There is a slight edge for paid apps this can be because paid apps may have more loyal and dedicated users.\n"
      ],
      "metadata": {
        "id": "Po6ZPi4hphqO"
      }
    },
    {
      "cell_type": "markdown",
      "source": [
        "##### 3. Will the gained insights help creating a positive business impact? \n",
        "Are there any insights that lead to negative growth? Justify with specific reason."
      ],
      "metadata": {
        "id": "b0JNsNcRphqO"
      }
    },
    {
      "cell_type": "markdown",
      "source": [
        "Answer Here"
      ],
      "metadata": {
        "id": "xvSq8iUTphqO"
      }
    },
    {
      "cell_type": "markdown",
      "source": [
        "#### Correlation Heatmap"
      ],
      "metadata": {
        "id": "BZR9WyysphqO"
      }
    },
    {
      "cell_type": "code",
      "source": [
        "# visualization code\n",
        "# calculating correlation between each pair of variable\n",
        "corr_df = Play_store_df.corr()\n",
        "\n",
        "# plotting correlation heatmap\n",
        "plt.figure(figsize=(6,6))\n",
        "sns.heatmap(corr_df, annot=True, cmap=\"Blues\",cbar=True)\n",
        "\n",
        "plt.title(\"Correlation\")\n",
        "plt.show()"
      ],
      "metadata": {
        "id": "TdPTWpAVphqO"
      },
      "execution_count": null,
      "outputs": []
    },
    {
      "cell_type": "markdown",
      "source": [
        "##### 1. Why did you pick the specific chart?"
      ],
      "metadata": {
        "id": "jj7wYXLtphqO"
      }
    },
    {
      "cell_type": "markdown",
      "source": [
        "* To show the relationship between the two variables, we use Heatmap\n",
        "* Above pattern shows the strong relation between **Installs** and **Reviews**"
      ],
      "metadata": {
        "id": "Ob8u6rCTphqO"
      }
    },
    {
      "cell_type": "markdown",
      "source": [
        "##### 2. What is/are the insight(s) found from the chart?"
      ],
      "metadata": {
        "id": "eZrbJ2SmphqO"
      }
    },
    {
      "cell_type": "markdown",
      "source": [
        "### **Observation:**\n",
        "*   Installs and Reviews have the strongest correlation. There is no strong correlation found between other features.\n",
        "\n",
        "*   Price has a negative correlation with all other features but it is very weak and it can be negligible.\n",
        "\n",
        "*   There is small linear relation of Installs with Size of an app which we will analyze further.\n"
      ],
      "metadata": {
        "id": "mZtgC_hjphqO"
      }
    },
    {
      "cell_type": "markdown",
      "source": [
        "#### Chart - 9"
      ],
      "metadata": {
        "id": "YJ55k-q6phqO"
      }
    },
    {
      "cell_type": "code",
      "source": [
        "# Chart - 9 visualization code"
      ],
      "metadata": {
        "id": "B2aS4O1ophqO"
      },
      "execution_count": null,
      "outputs": []
    },
    {
      "cell_type": "markdown",
      "source": [
        "##### 1. Why did you pick the specific chart?"
      ],
      "metadata": {
        "id": "gCFgpxoyphqP"
      }
    },
    {
      "cell_type": "markdown",
      "source": [
        "Answer Here."
      ],
      "metadata": {
        "id": "TVxDimi2phqP"
      }
    },
    {
      "cell_type": "markdown",
      "source": [
        "##### 2. What is/are the insight(s) found from the chart?"
      ],
      "metadata": {
        "id": "OVtJsKN_phqQ"
      }
    },
    {
      "cell_type": "markdown",
      "source": [
        "Answer Here"
      ],
      "metadata": {
        "id": "ngGi97qjphqQ"
      }
    },
    {
      "cell_type": "markdown",
      "source": [
        "##### 3. Will the gained insights help creating a positive business impact? \n",
        "Are there any insights that lead to negative growth? Justify with specific reason."
      ],
      "metadata": {
        "id": "lssrdh5qphqQ"
      }
    },
    {
      "cell_type": "markdown",
      "source": [
        "Answer Here"
      ],
      "metadata": {
        "id": "tBpY5ekJphqQ"
      }
    },
    {
      "cell_type": "markdown",
      "source": [
        "#### Chart - 10"
      ],
      "metadata": {
        "id": "U2RJ9gkRphqQ"
      }
    },
    {
      "cell_type": "code",
      "source": [
        "# Chart - 10 visualization code"
      ],
      "metadata": {
        "id": "GM7a4YP4phqQ"
      },
      "execution_count": null,
      "outputs": []
    },
    {
      "cell_type": "markdown",
      "source": [
        "##### 1. Why did you pick the specific chart?"
      ],
      "metadata": {
        "id": "1M8mcRywphqQ"
      }
    },
    {
      "cell_type": "markdown",
      "source": [
        "Answer Here."
      ],
      "metadata": {
        "id": "8agQvks0phqQ"
      }
    },
    {
      "cell_type": "markdown",
      "source": [
        "##### 2. What is/are the insight(s) found from the chart?"
      ],
      "metadata": {
        "id": "tgIPom80phqQ"
      }
    },
    {
      "cell_type": "markdown",
      "source": [
        "Answer Here"
      ],
      "metadata": {
        "id": "Qp13pnNzphqQ"
      }
    },
    {
      "cell_type": "markdown",
      "source": [
        "##### 3. Will the gained insights help creating a positive business impact? \n",
        "Are there any insights that lead to negative growth? Justify with specific reason."
      ],
      "metadata": {
        "id": "JMzcOPDDphqR"
      }
    },
    {
      "cell_type": "markdown",
      "source": [
        "Answer Here"
      ],
      "metadata": {
        "id": "R4Ka1PC2phqR"
      }
    },
    {
      "cell_type": "markdown",
      "source": [
        "#### Chart - 11"
      ],
      "metadata": {
        "id": "x-EpHcCOp1ci"
      }
    },
    {
      "cell_type": "code",
      "source": [
        "# Chart - 11 visualization code"
      ],
      "metadata": {
        "id": "mAQTIvtqp1cj"
      },
      "execution_count": null,
      "outputs": []
    },
    {
      "cell_type": "markdown",
      "source": [
        "##### 1. Why did you pick the specific chart?"
      ],
      "metadata": {
        "id": "X_VqEhTip1ck"
      }
    },
    {
      "cell_type": "markdown",
      "source": [
        "Answer Here."
      ],
      "metadata": {
        "id": "-vsMzt_np1ck"
      }
    },
    {
      "cell_type": "markdown",
      "source": [
        "##### 2. What is/are the insight(s) found from the chart?"
      ],
      "metadata": {
        "id": "8zGJKyg5p1ck"
      }
    },
    {
      "cell_type": "markdown",
      "source": [
        "Answer Here"
      ],
      "metadata": {
        "id": "ZYdMsrqVp1ck"
      }
    },
    {
      "cell_type": "markdown",
      "source": [
        "##### 3. Will the gained insights help creating a positive business impact? \n",
        "Are there any insights that lead to negative growth? Justify with specific reason."
      ],
      "metadata": {
        "id": "PVzmfK_Ep1ck"
      }
    },
    {
      "cell_type": "markdown",
      "source": [
        "Answer Here"
      ],
      "metadata": {
        "id": "druuKYZpp1ck"
      }
    },
    {
      "cell_type": "markdown",
      "source": [
        "#### Chart - 12"
      ],
      "metadata": {
        "id": "n3dbpmDWp1ck"
      }
    },
    {
      "cell_type": "code",
      "source": [
        "# Chart - 12 visualization code"
      ],
      "metadata": {
        "id": "bwevp1tKp1ck"
      },
      "execution_count": null,
      "outputs": []
    },
    {
      "cell_type": "markdown",
      "source": [
        "##### 1. Why did you pick the specific chart?"
      ],
      "metadata": {
        "id": "ylSl6qgtp1ck"
      }
    },
    {
      "cell_type": "markdown",
      "source": [
        "Answer Here."
      ],
      "metadata": {
        "id": "m2xqNkiQp1ck"
      }
    },
    {
      "cell_type": "markdown",
      "source": [
        "##### 2. What is/are the insight(s) found from the chart?"
      ],
      "metadata": {
        "id": "ZWILFDl5p1ck"
      }
    },
    {
      "cell_type": "markdown",
      "source": [
        "Answer Here"
      ],
      "metadata": {
        "id": "x-lUsV2mp1ck"
      }
    },
    {
      "cell_type": "markdown",
      "source": [
        "##### 3. Will the gained insights help creating a positive business impact? \n",
        "Are there any insights that lead to negative growth? Justify with specific reason."
      ],
      "metadata": {
        "id": "M7G43BXep1ck"
      }
    },
    {
      "cell_type": "markdown",
      "source": [
        "Answer Here"
      ],
      "metadata": {
        "id": "5wwDJXsLp1cl"
      }
    },
    {
      "cell_type": "markdown",
      "source": [
        "#### Chart - 13"
      ],
      "metadata": {
        "id": "Ag9LCva-p1cl"
      }
    },
    {
      "cell_type": "code",
      "source": [
        "# Chart - 13 visualization code"
      ],
      "metadata": {
        "id": "EUfxeq9-p1cl"
      },
      "execution_count": null,
      "outputs": []
    },
    {
      "cell_type": "markdown",
      "source": [
        "##### 1. Why did you pick the specific chart?"
      ],
      "metadata": {
        "id": "E6MkPsBcp1cl"
      }
    },
    {
      "cell_type": "markdown",
      "source": [
        "Answer Here."
      ],
      "metadata": {
        "id": "V22bRsFWp1cl"
      }
    },
    {
      "cell_type": "markdown",
      "source": [
        "##### 2. What is/are the insight(s) found from the chart?"
      ],
      "metadata": {
        "id": "2cELzS2fp1cl"
      }
    },
    {
      "cell_type": "markdown",
      "source": [
        "Answer Here"
      ],
      "metadata": {
        "id": "ozQPc2_Ip1cl"
      }
    },
    {
      "cell_type": "markdown",
      "source": [
        "##### 3. Will the gained insights help creating a positive business impact? \n",
        "Are there any insights that lead to negative growth? Justify with specific reason."
      ],
      "metadata": {
        "id": "3MPXvC8up1cl"
      }
    },
    {
      "cell_type": "markdown",
      "source": [
        "Answer Here"
      ],
      "metadata": {
        "id": "GL8l1tdLp1cl"
      }
    },
    {
      "cell_type": "markdown",
      "source": [
        "#### Chart - 14 - Correlation Heatmap"
      ],
      "metadata": {
        "id": "NC_X3p0fY2L0"
      }
    },
    {
      "cell_type": "code",
      "source": [
        "# Correlation Heatmap visualization code"
      ],
      "metadata": {
        "id": "xyC9zolEZNRQ"
      },
      "execution_count": null,
      "outputs": []
    },
    {
      "cell_type": "markdown",
      "source": [
        "##### 1. Why did you pick the specific chart?"
      ],
      "metadata": {
        "id": "UV0SzAkaZNRQ"
      }
    },
    {
      "cell_type": "markdown",
      "source": [
        "Answer Here."
      ],
      "metadata": {
        "id": "DVPuT8LYZNRQ"
      }
    },
    {
      "cell_type": "markdown",
      "source": [
        "##### 2. What is/are the insight(s) found from the chart?"
      ],
      "metadata": {
        "id": "YPEH6qLeZNRQ"
      }
    },
    {
      "cell_type": "markdown",
      "source": [
        "Answer Here"
      ],
      "metadata": {
        "id": "bfSqtnDqZNRR"
      }
    },
    {
      "cell_type": "markdown",
      "source": [
        "#### Chart - 15 - Pair Plot "
      ],
      "metadata": {
        "id": "q29F0dvdveiT"
      }
    },
    {
      "cell_type": "code",
      "source": [
        "# Pair Plot visualization code"
      ],
      "metadata": {
        "id": "o58-TEIhveiU"
      },
      "execution_count": null,
      "outputs": []
    },
    {
      "cell_type": "markdown",
      "source": [
        "##### 1. Why did you pick the specific chart?"
      ],
      "metadata": {
        "id": "EXh0U9oCveiU"
      }
    },
    {
      "cell_type": "markdown",
      "source": [
        "Answer Here."
      ],
      "metadata": {
        "id": "eMmPjTByveiU"
      }
    },
    {
      "cell_type": "markdown",
      "source": [
        "##### 2. What is/are the insight(s) found from the chart?"
      ],
      "metadata": {
        "id": "22aHeOlLveiV"
      }
    },
    {
      "cell_type": "markdown",
      "source": [
        "Answer Here"
      ],
      "metadata": {
        "id": "uPQ8RGwHveiV"
      }
    },
    {
      "cell_type": "markdown",
      "source": [
        "## **5. Solution to Business Objective**"
      ],
      "metadata": {
        "id": "JcMwzZxoAimU"
      }
    },
    {
      "cell_type": "markdown",
      "source": [
        "#### What do you suggest the client to achieve Business Objective ? \n",
        "Explain Briefly."
      ],
      "metadata": {
        "id": "8G2x9gOozGDZ"
      }
    },
    {
      "cell_type": "markdown",
      "source": [
        "Answer Here."
      ],
      "metadata": {
        "id": "pASKb0qOza21"
      }
    },
    {
      "cell_type": "markdown",
      "source": [
        "# **Conclusion**"
      ],
      "metadata": {
        "id": "gCX9965dhzqZ"
      }
    },
    {
      "cell_type": "markdown",
      "source": [
        "Write the conclusion here."
      ],
      "metadata": {
        "id": "Fjb1IsQkh3yE"
      }
    },
    {
      "cell_type": "markdown",
      "source": [
        "### ***Hurrah! You have successfully completed your EDA Capstone Project !!!***"
      ],
      "metadata": {
        "id": "gIfDvo9L0UH2"
      }
    }
  ]
}